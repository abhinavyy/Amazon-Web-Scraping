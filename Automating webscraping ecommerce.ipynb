{
 "cells": [
  {
   "cell_type": "code",
   "execution_count": 1,
   "id": "7e2a8c69-2e90-4332-bdbc-6be25aa9c8b4",
   "metadata": {},
   "outputs": [
    {
     "name": "stdout",
     "output_type": "stream",
     "text": [
      "Requirement already satisfied: autoscraper in c:\\users\\abhin\\anaconda3\\lib\\site-packages (1.1.14)\n",
      "Requirement already satisfied: requests in c:\\users\\abhin\\anaconda3\\lib\\site-packages (from autoscraper) (2.32.2)\n",
      "Requirement already satisfied: bs4 in c:\\users\\abhin\\anaconda3\\lib\\site-packages (from autoscraper) (0.0.2)\n",
      "Requirement already satisfied: lxml in c:\\users\\abhin\\anaconda3\\lib\\site-packages (from autoscraper) (5.2.1)\n",
      "Requirement already satisfied: beautifulsoup4 in c:\\users\\abhin\\anaconda3\\lib\\site-packages (from bs4->autoscraper) (4.12.3)\n",
      "Requirement already satisfied: charset-normalizer<4,>=2 in c:\\users\\abhin\\anaconda3\\lib\\site-packages (from requests->autoscraper) (2.0.4)\n",
      "Requirement already satisfied: idna<4,>=2.5 in c:\\users\\abhin\\anaconda3\\lib\\site-packages (from requests->autoscraper) (2.10)\n",
      "Requirement already satisfied: urllib3<3,>=1.21.1 in c:\\users\\abhin\\anaconda3\\lib\\site-packages (from requests->autoscraper) (2.2.2)\n",
      "Requirement already satisfied: certifi>=2017.4.17 in c:\\users\\abhin\\anaconda3\\lib\\site-packages (from requests->autoscraper) (2024.8.30)\n",
      "Requirement already satisfied: soupsieve>1.2 in c:\\users\\abhin\\anaconda3\\lib\\site-packages (from beautifulsoup4->bs4->autoscraper) (2.5)\n",
      "Note: you may need to restart the kernel to use updated packages.\n"
     ]
    }
   ],
   "source": [
    "pip install autoscraper"
   ]
  },
  {
   "cell_type": "code",
   "execution_count": 3,
   "id": "6a24bd76-e99b-4ac4-a082-f08775ad2c79",
   "metadata": {},
   "outputs": [],
   "source": [
    "from autoscraper import AutoScraper"
   ]
  },
  {
   "cell_type": "code",
   "execution_count": 62,
   "id": "7d5f40e0-bf78-4158-a889-06677060cd41",
   "metadata": {},
   "outputs": [],
   "source": [
    "amazon_url='https://www.amazon.in/s?k=samsung&crid=3Q2CI7FRVQN2T&sprefix=samsung%2Caps%2C206&ref=nb_sb_noss_1'\n",
    "wanted_list=['₹23,499','Oneplus Nord CE4 (Dark Chrome, 8GB RAM, 128GB Storage)']"
   ]
  },
  {
   "cell_type": "code",
   "execution_count": 64,
   "id": "851d38f8-8fba-44f7-a86c-818c3f68e220",
   "metadata": {},
   "outputs": [
    {
     "name": "stdout",
     "output_type": "stream",
     "text": [
      "['₹11,999', '₹23,499', '₹40,998', '₹57,997', '₹57,599', '₹6,499', 'Samsung Galaxy M15 5G Prime Edition (Stone Grey,6GB RAM,128GB Storage)| Super AMOLED Display| 50MP Triple Cam| 6000mAh Battery| MediaTek Dimensity 6100+| 4 Gen. OS Upgrade & 5 Year Security Update', 'Oneplus Nord CE4 (Dark Chrome, 8GB RAM, 128GB Storage)', 'OnePlus 12R (Iron Gray, 16GB RAM, 256GB Storage)', 'Samsung Galaxy S24 FE 5G AI Smartphone (Graphite, 8GB RAM, 256GB Storage)', 'Samsung Galaxy S24 FE 5G AI Smartphone (Mint, 8GB RAM, 256GB Storage)', 'Samsung Galaxy M05 (Mint Green, 4GB RAM, 64 GB Storage) | 50MP Dual Camera | Bigger 6.7\" HD+ Display | 5000mAh Battery | 25W Fast Charging | 2 Gen OS Upgrade & 4 Year Security Update | Without Charger']\n"
     ]
    }
   ],
   "source": [
    "scraper=AutoScraper()\n",
    "result=scraper.build(amazon_url,wanted_list)\n",
    "print(result)"
   ]
  },
  {
   "cell_type": "code",
   "execution_count": 66,
   "id": "7d604312-288c-4db9-b96a-296c2d4c6f7c",
   "metadata": {},
   "outputs": [
    {
     "data": {
      "text/plain": [
       "{'rule_ck2o': ['₹11,999',\n",
       "  '₹23,499',\n",
       "  '₹6,499',\n",
       "  '₹32,998',\n",
       "  '₹40,998',\n",
       "  '₹14,999'],\n",
       " 'rule_6n4o': ['₹11,999',\n",
       "  '₹23,499',\n",
       "  '₹6,499',\n",
       "  '₹32,998',\n",
       "  '₹40,998',\n",
       "  '₹14,999'],\n",
       " 'rule_afcr': ['Samsung Galaxy M15 5G Prime Edition (Stone Grey,6GB RAM,128GB Storage)| Super AMOLED Display| 50MP Triple Cam| 6000mAh Battery| MediaTek Dimensity 6100+| 4 Gen. OS Upgrade & 5 Year Security Update',\n",
       "  'Oneplus Nord CE4 (Dark Chrome, 8GB RAM, 128GB Storage)',\n",
       "  'Samsung Galaxy M05 (Mint Green, 4GB RAM, 64 GB Storage) | 50MP Dual Camera | Bigger 6.7\" HD+ Display | 5000mAh Battery | 25W Fast Charging | 2 Gen OS Upgrade & 4 Year Security Update | Without Charger',\n",
       "  'OnePlus Nord 4 5G (Oasis Green, 8GB RAM, 256GB Storage)',\n",
       "  'OnePlus 12R (Iron Gray, 16GB RAM, 256GB Storage)',\n",
       "  'Lava Blaze Curve 5G (Glass Iron, 8GB LPDDR5 RAM, UFS 3.1 128GB Storage) | 120Hz Curved Amoled Display |2.6GHz Dimensity 7050 6nm Processor | 64 MP Primary Sony Sensor']}"
      ]
     },
     "execution_count": 66,
     "metadata": {},
     "output_type": "execute_result"
    }
   ],
   "source": [
    "scraper.get_result_similar(amazon_url,grouped=True)"
   ]
  },
  {
   "cell_type": "code",
   "execution_count": 56,
   "id": "bf411988-d2cf-4c60-91cb-3aea3c3949e1",
   "metadata": {},
   "outputs": [
    {
     "data": {
      "text/plain": [
       "['₹89,900',\n",
       " '₹69,900',\n",
       " 'Apple iPhone 16 (256 GB) - Ultramarine',\n",
       " 'Apple iPhone 15 (128 GB) - Yellow']"
      ]
     },
     "execution_count": 56,
     "metadata": {},
     "output_type": "execute_result"
    }
   ],
   "source": [
    "result = scraper.get_result_similar(amazon_url)\n",
    "result"
   ]
  },
  {
   "cell_type": "code",
   "execution_count": 74,
   "id": "46e36fcd-8732-4065-a726-b8c352355c29",
   "metadata": {},
   "outputs": [],
   "source": [
    "# Set aliases for the rules\n",
    "scraper.set_rule_aliases({\n",
    "    'rule_ck2o': 'Price',     # Rule for prices\n",
    "    'rule_afcr': 'Title'      # Rule for product titles\n",
    "})\n",
    "# Keep only the necessary rules (Price and Title)\n",
    "scraper.keep_rules(['rule_ck2o', 'rule_afcr'])\n",
    "# Save the scraper configuration\n",
    "scraper.save('amazon-search')\n"
   ]
  },
  {
   "cell_type": "code",
   "execution_count": 78,
   "id": "e56882ef-ced8-4aea-8612-936554689e35",
   "metadata": {},
   "outputs": [
    {
     "ename": "TypeError",
     "evalue": "AutoScraper.get_result_similar() got an unexpected keyword argument 'group_by_alise'",
     "output_type": "error",
     "traceback": [
      "\u001b[1;31m---------------------------------------------------------------------------\u001b[0m",
      "\u001b[1;31mTypeError\u001b[0m                                 Traceback (most recent call last)",
      "Cell \u001b[1;32mIn[78], line 1\u001b[0m\n\u001b[1;32m----> 1\u001b[0m scraper\u001b[38;5;241m.\u001b[39mget_result_similar(\u001b[38;5;124m'\u001b[39m\u001b[38;5;124mhttps://www.amazon.in/s?k=mi+under+15000&crid=23DTVF147W4VP&sprefix=mi+under+15000\u001b[39m\u001b[38;5;124m%\u001b[39m\u001b[38;5;124m2Caps\u001b[39m\u001b[38;5;124m%\u001b[39m\u001b[38;5;124m2C197&ref=nb_sb_noss_1\u001b[39m\u001b[38;5;124m'\u001b[39m,group_by_alise\u001b[38;5;241m=\u001b[39m\u001b[38;5;124m'\u001b[39m\u001b[38;5;124mTrue\u001b[39m\u001b[38;5;124m'\u001b[39m)\n",
      "\u001b[1;31mTypeError\u001b[0m: AutoScraper.get_result_similar() got an unexpected keyword argument 'group_by_alise'"
     ]
    }
   ],
   "source": [
    "scraper.get_result_similar('https://www.amazon.in/s?k=mi+under+15000&crid=23DTVF147W4VP&sprefix=mi+under+15000%2Caps%2C197&ref=nb_sb_noss_1',group_by_alise='True')"
   ]
  },
  {
   "cell_type": "code",
   "execution_count": 80,
   "id": "d16c424a-7d22-43f4-930c-7079412bc6f9",
   "metadata": {},
   "outputs": [
    {
     "name": "stdout",
     "output_type": "stream",
     "text": [
      "{'rule_ck2o': ['₹32,998', '₹13,999', '₹11,499', '₹14,999', '₹6,499', '₹12,499'], 'rule_afcr': ['OnePlus Nord 4 5G (Oasis Green, 8GB RAM, 256GB Storage)', 'Tecno POVA 6 NEO (Midnight Shadow, 8GB+256GB) | Advanced AI Features | 108MP Ultra Clear AI Camera | D6300 Powerful Processor | 5 Year Lag Free Fluency | 5000 mAh | in Built Infrared and NFC', 'Lava Blaze 3 5G (Glass Blue 6GB RAM, 128GB Storage) | SuperFast Dimensity 6300 Processor | 90Hz Display | 50MP+2MP AI Camera with Vibe Light | 5000 mAh Battery | Glass Back | 18W Fast Charging', 'Lava Blaze Curve 5G (Glass Iron, 8GB LPDDR5 RAM, UFS 3.1 128GB Storage) | 120Hz Curved Amoled Display |2.6GHz Dimensity 7050 6nm Processor | 64 MP Primary Sony Sensor', 'Samsung Galaxy M05 (Mint Green, 4GB RAM, 64 GB Storage) | 50MP Dual Camera | Bigger 6.7\" HD+ Display | 5000mAh Battery | 25W Fast Charging | 2 Gen OS Upgrade & 4 Year Security Update | Without Charger', 'Lava Storm 5G (Thunder Black, 8GB RAM, 128GB ROM), Premium Glass Back Design, MediaTek Dimensity 6080 Processor, 50MP+8MP Ultrawide Dual Camera, 16MP Front Camera, 33W Fast Charging, Clean Android']}\n"
     ]
    }
   ],
   "source": [
    "# Fetch similar results from the URL\n",
    "result = scraper.get_result_similar('https://www.amazon.in/s?k=mi+under+15000&crid=23DTVF147W4VP&sprefix=mi+under+15000%2Caps%2C197&ref=nb_sb_noss_1')\n",
    "\n",
    "# Print the result grouped by rule aliases\n",
    "grouped_result = scraper.get_result_similar('https://www.amazon.in/s?k=mi+under+15000&crid=23DTVF147W4VP&sprefix=mi+under+15000%2Caps%2C197&ref=nb_sb_noss_1', grouped=True)\n",
    "\n",
    "print(grouped_result)\n"
   ]
  },
  {
   "cell_type": "code",
   "execution_count": 82,
   "id": "4040a4b1-1291-4953-953f-c5d3fca64609",
   "metadata": {},
   "outputs": [
    {
     "name": "stdout",
     "output_type": "stream",
     "text": [
      "{'rule_ck2o': ['₹13,999', '₹6,499', '₹32,998', '₹12,499'], 'rule_afcr': ['Tecno POVA 6 NEO 5G (Aurora Cloud, 8GB+256GB) | Advanced AI Features | 108MP Ultra Clear AI Camera | D6300 Powerful Processor | 5 Year Lag Free Fluency | 5000 mAh Battery | in Built Infrared and NFC', 'Samsung Galaxy M05 (Mint Green, 4GB RAM, 64 GB Storage) | 50MP Dual Camera | Bigger 6.7\" HD+ Display | 5000mAh Battery | 25W Fast Charging | 2 Gen OS Upgrade & 4 Year Security Update | Without Charger', 'OnePlus Nord 4 5G (Oasis Green, 8GB RAM, 256GB Storage)', 'Lava Storm 5G(Gale Green,8GB RAM,128GB ROM)-Powered by MediaTek Dimensity 6080 Processor|120Hz FHD+ Display|50MP+8MP Ultrawide Camera|16MP FrontCamera|33W Fast Charging|Upto 16GB ExpandableRAM']}\n"
     ]
    }
   ],
   "source": [
    "grouped_result = scraper.get_result_similar('https://www.amazon.in/s?k=mi+under+15000&crid=23DTVF147W4VP&sprefix=mi+under+15000%2Caps%2C197&ref=nb_sb_noss_1', grouped=True)\n",
    "\n",
    "# Inspect the grouped result\n",
    "print(grouped_result)\n"
   ]
  },
  {
   "cell_type": "code",
   "execution_count": 84,
   "id": "d5e90083-63fb-49f6-b228-cd14afebec3e",
   "metadata": {},
   "outputs": [
    {
     "data": {
      "text/plain": [
       "{'Title': ['Product 1', 'Product 2', Ellipsis],\n",
       " 'Price': ['₹11,999', '₹12,999', Ellipsis]}"
      ]
     },
     "execution_count": 84,
     "metadata": {},
     "output_type": "execute_result"
    }
   ],
   "source": [
    "{\n",
    "    'Title': ['Product 1', 'Product 2', ...],\n",
    "    'Price': ['₹11,999', '₹12,999', ...]\n",
    "}\n"
   ]
  },
  {
   "cell_type": "code",
   "execution_count": 86,
   "id": "cb8f4fe2-7e3a-43fe-8a06-6d7e1c4e09f5",
   "metadata": {},
   "outputs": [
    {
     "name": "stdout",
     "output_type": "stream",
     "text": [
      "  rule_ck2o                                          rule_afcr\n",
      "0   ₹13,999  Tecno POVA 6 NEO 5G (Aurora Cloud, 8GB+256GB) ...\n",
      "1    ₹6,499  Samsung Galaxy M05 (Mint Green, 4GB RAM, 64 GB...\n",
      "2   ₹32,998  OnePlus Nord 4 5G (Oasis Green, 8GB RAM, 256GB...\n",
      "3   ₹12,499  Lava Storm 5G(Gale Green,8GB RAM,128GB ROM)-Po...\n"
     ]
    }
   ],
   "source": [
    "import pandas as pd\n",
    "\n",
    "# Convert the grouped result to a pandas DataFrame\n",
    "df = pd.DataFrame(grouped_result)\n",
    "\n",
    "# Show the DataFrame\n",
    "print(df)\n"
   ]
  },
  {
   "cell_type": "code",
   "execution_count": null,
   "id": "1e264423-aac8-4810-9166-2db472c854a0",
   "metadata": {},
   "outputs": [],
   "source": []
  }
 ],
 "metadata": {
  "kernelspec": {
   "display_name": "Python 3 (ipykernel)",
   "language": "python",
   "name": "python3"
  },
  "language_info": {
   "codemirror_mode": {
    "name": "ipython",
    "version": 3
   },
   "file_extension": ".py",
   "mimetype": "text/x-python",
   "name": "python",
   "nbconvert_exporter": "python",
   "pygments_lexer": "ipython3",
   "version": "3.12.4"
  }
 },
 "nbformat": 4,
 "nbformat_minor": 5
}
